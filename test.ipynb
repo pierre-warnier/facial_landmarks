{
 "cells": [
  {
   "cell_type": "code",
   "execution_count": 1,
   "metadata": {},
   "outputs": [],
   "source": [
    "import cv2\n",
    "import dlib\n",
    "import numpy as np\n",
    "import scipy as sp\n",
    "from scipy.sparse import dok_matrix"
   ]
  },
  {
   "cell_type": "code",
   "execution_count": 15,
   "metadata": {},
   "outputs": [],
   "source": [
    "l = list()\n",
    "\n",
    "detector = dlib.get_frontal_face_detector()\n",
    "predictor = dlib.shape_predictor(\"shape_predictor_68_face_landmarks_GTX.dat\")\n",
    "cap = cv2.VideoCapture(\"test.mov\")\n",
    "\n",
    "fps = cap.get(cv2.CAP_PROP_FPS)      # OpenCV2 version 2 used \"CV_CAP_PROP_FPS\"\n",
    "frame_count = int(cap.get(cv2.CAP_PROP_FRAME_COUNT))\n",
    "duration = frame_count/fps\n",
    "\n",
    "while cap.isOpened():\n",
    "    # Capture the image from the webcam\n",
    "    ret, image = cap.read()\n",
    "    if image is None:\n",
    "        break\n",
    "    height, width = image.shape[:2]\n",
    "    if height < width:\n",
    "        new_height = int(height / width * 480)\n",
    "        new_width = 480\n",
    "    else:\n",
    "        new_width = int(width / height * 480)\n",
    "        new_height = 480\n",
    "    image = cv2.resize(image, (new_width, new_height))\n",
    "    # Convert the image color to grayscale\n",
    "    gray = cv2.cvtColor(image, cv2.COLOR_BGR2GRAY)\n",
    "    # Detect the face\n",
    "    rects = detector(gray, 1)\n",
    "    # Detect landmarks for each face\n",
    "    for rect in rects:\n",
    "        # Get the landmark points\n",
    "        shape = predictor(gray, rect)\n",
    "\t# Convert it to the NumPy Array\n",
    "        shape_np = np.zeros((68, 2), dtype=\"int\")\n",
    "        for i in range(0, 68):\n",
    "            shape_np[i] = (shape.part(i).y, shape.part(i).x)\n",
    "        shape = shape_np\n",
    "        l.append(shape)\n",
    "cap.release()\n",
    "\n"
   ]
  },
  {
   "cell_type": "code",
   "execution_count": 17,
   "metadata": {},
   "outputs": [],
   "source": [
    "cpt = 0\n",
    "for frame in l:\n",
    "    res = np.ones((new_height, new_width)) * 255\n",
    "    for k, v in frame:\n",
    "        res[k,v] = 0\n",
    "    cv2.imwrite('frames/frame{:04d}.png'.format(cpt), res)\n",
    "    cpt += 1\n"
   ]
  },
  {
   "cell_type": "code",
   "execution_count": 20,
   "metadata": {},
   "outputs": [],
   "source": [
    "import glob\n",
    " \n",
    "img_array = []\n",
    "for filename in glob.glob('frames/*.png'):\n",
    "    img = cv2.imread(filename)\n",
    "    height, width, layers = img.shape\n",
    "    size = (width,height)\n",
    "    img_array.append(img)\n",
    " \n",
    " \n",
    "out = cv2.VideoWriter('out.mp4',cv2.VideoWriter_fourcc(*'mp4v'), 30, size)\n",
    " \n",
    "for i in range(len(img_array)):\n",
    "    out.write(img_array[i])\n",
    "out.release()"
   ]
  },
  {
   "cell_type": "code",
   "execution_count": null,
   "metadata": {},
   "outputs": [],
   "source": []
  }
 ],
 "metadata": {
  "interpreter": {
   "hash": "c6e4e9f98eb68ad3b7c296f83d20e6de614cb42e90992a65aa266555a3137d0d"
  },
  "kernelspec": {
   "display_name": "Python 3.9.12 ('base')",
   "language": "python",
   "name": "python3"
  },
  "language_info": {
   "codemirror_mode": {
    "name": "ipython",
    "version": 3
   },
   "file_extension": ".py",
   "mimetype": "text/x-python",
   "name": "python",
   "nbconvert_exporter": "python",
   "pygments_lexer": "ipython3",
   "version": "3.9.12"
  },
  "orig_nbformat": 4
 },
 "nbformat": 4,
 "nbformat_minor": 2
}
